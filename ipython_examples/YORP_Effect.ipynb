{
 "cells": [
  {
   "cell_type": "markdown",
   "metadata": {},
   "source": [
    "# YORP Effect on a Single Asteroid\n",
    "\n",
    "This example shows the effect of the YORP radiation force on a single asteroid rotating near break-up speed, in orbit around a white dwarf. The fragmentation process is defined in a custom heartbeat function and produces a binary asteroid with a few smaller fragments called \"shards\". Since we are using test particles (where the mass is set to 0), this is a simplified model and does not include binary interactions between the asteroid fragments. "
   ]
  },
  {
   "cell_type": "markdown",
   "metadata": {},
   "source": [
    "First we set up the simulation with a solar-mass star and an asteroid with a semi-major axis of 0.005 AU:"
   ]
  },
  {
   "cell_type": "code",
   "execution_count": 1,
   "metadata": {},
   "outputs": [
    {
     "ename": "OSError",
     "evalue": "/home/kaelynclement/rebound/rebound/.venv/lib/python3.10/site-packages/librebound.cpython-310-x86_64-linux-gnu.so: cannot open shared object file: No such file or directory",
     "output_type": "error",
     "traceback": [
      "\u001b[0;31m---------------------------------------------------------------------------\u001b[0m",
      "\u001b[0;31mOSError\u001b[0m                                   Traceback (most recent call last)",
      "Cell \u001b[0;32mIn[1], line 1\u001b[0m\n\u001b[0;32m----> 1\u001b[0m \u001b[38;5;28;01mimport\u001b[39;00m \u001b[38;5;21;01mrebound\u001b[39;00m\n\u001b[1;32m      2\u001b[0m \u001b[38;5;28;01mimport\u001b[39;00m \u001b[38;5;21;01mreboundx\u001b[39;00m\n\u001b[1;32m      3\u001b[0m \u001b[38;5;28;01mimport\u001b[39;00m \u001b[38;5;21;01mnumpy\u001b[39;00m \u001b[38;5;28;01mas\u001b[39;00m \u001b[38;5;21;01mnp\u001b[39;00m\n",
      "File \u001b[0;32m~/rebound/rebound/.venv/lib/python3.10/site-packages/rebound/__init__.py:45\u001b[0m\n\u001b[1;32m     43\u001b[0m pymodulepath \u001b[38;5;241m=\u001b[39m os\u001b[38;5;241m.\u001b[39mpath\u001b[38;5;241m.\u001b[39mabspath(os\u001b[38;5;241m.\u001b[39mpath\u001b[38;5;241m.\u001b[39mjoin(pymodulepath, os\u001b[38;5;241m.\u001b[39mpardir))\n\u001b[1;32m     44\u001b[0m __libpath__ \u001b[38;5;241m=\u001b[39m os\u001b[38;5;241m.\u001b[39mpath\u001b[38;5;241m.\u001b[39mjoin(pymodulepath, \u001b[38;5;124m\"\u001b[39m\u001b[38;5;124mlibrebound\u001b[39m\u001b[38;5;124m\"\u001b[39m\u001b[38;5;241m+\u001b[39msuffix)\n\u001b[0;32m---> 45\u001b[0m clibrebound \u001b[38;5;241m=\u001b[39m \u001b[43mcdll\u001b[49m\u001b[38;5;241;43m.\u001b[39;49m\u001b[43mLoadLibrary\u001b[49m\u001b[43m(\u001b[49m\u001b[43m__libpath__\u001b[49m\u001b[43m)\u001b[49m\n\u001b[1;32m     47\u001b[0m \u001b[38;5;66;03m# Version\u001b[39;00m\n\u001b[1;32m     48\u001b[0m __version__ \u001b[38;5;241m=\u001b[39m c_char_p\u001b[38;5;241m.\u001b[39min_dll(clibrebound, \u001b[38;5;124m\"\u001b[39m\u001b[38;5;124mreb_version_str\u001b[39m\u001b[38;5;124m\"\u001b[39m)\u001b[38;5;241m.\u001b[39mvalue\u001b[38;5;241m.\u001b[39mdecode(\u001b[38;5;124m'\u001b[39m\u001b[38;5;124mascii\u001b[39m\u001b[38;5;124m'\u001b[39m)\n",
      "File \u001b[0;32m/usr/lib/python3.10/ctypes/__init__.py:452\u001b[0m, in \u001b[0;36mLibraryLoader.LoadLibrary\u001b[0;34m(self, name)\u001b[0m\n\u001b[1;32m    451\u001b[0m \u001b[38;5;28;01mdef\u001b[39;00m \u001b[38;5;21mLoadLibrary\u001b[39m(\u001b[38;5;28mself\u001b[39m, name):\n\u001b[0;32m--> 452\u001b[0m     \u001b[38;5;28;01mreturn\u001b[39;00m \u001b[38;5;28;43mself\u001b[39;49m\u001b[38;5;241;43m.\u001b[39;49m\u001b[43m_dlltype\u001b[49m\u001b[43m(\u001b[49m\u001b[43mname\u001b[49m\u001b[43m)\u001b[49m\n",
      "File \u001b[0;32m/usr/lib/python3.10/ctypes/__init__.py:374\u001b[0m, in \u001b[0;36mCDLL.__init__\u001b[0;34m(self, name, mode, handle, use_errno, use_last_error, winmode)\u001b[0m\n\u001b[1;32m    371\u001b[0m \u001b[38;5;28mself\u001b[39m\u001b[38;5;241m.\u001b[39m_FuncPtr \u001b[38;5;241m=\u001b[39m _FuncPtr\n\u001b[1;32m    373\u001b[0m \u001b[38;5;28;01mif\u001b[39;00m handle \u001b[38;5;129;01mis\u001b[39;00m \u001b[38;5;28;01mNone\u001b[39;00m:\n\u001b[0;32m--> 374\u001b[0m     \u001b[38;5;28mself\u001b[39m\u001b[38;5;241m.\u001b[39m_handle \u001b[38;5;241m=\u001b[39m \u001b[43m_dlopen\u001b[49m\u001b[43m(\u001b[49m\u001b[38;5;28;43mself\u001b[39;49m\u001b[38;5;241;43m.\u001b[39;49m\u001b[43m_name\u001b[49m\u001b[43m,\u001b[49m\u001b[43m \u001b[49m\u001b[43mmode\u001b[49m\u001b[43m)\u001b[49m\n\u001b[1;32m    375\u001b[0m \u001b[38;5;28;01melse\u001b[39;00m:\n\u001b[1;32m    376\u001b[0m     \u001b[38;5;28mself\u001b[39m\u001b[38;5;241m.\u001b[39m_handle \u001b[38;5;241m=\u001b[39m handle\n",
      "\u001b[0;31mOSError\u001b[0m: /home/kaelynclement/rebound/rebound/.venv/lib/python3.10/site-packages/librebound.cpython-310-x86_64-linux-gnu.so: cannot open shared object file: No such file or directory"
     ]
    }
   ],
   "source": [
    "import rebound\n",
    "import reboundx\n",
    "import numpy as np\n",
    "import matplotlib.pyplot as plt\n",
    "%matplotlib inline\n",
    "\n",
    "# Initialize the simulation\n",
    "sim = rebound.Simulation()\n",
    "\n",
    "sim.units = ('yr', 'AU', 'Msun') \n",
    "sim.integrator = \"whfast\" \n",
    "sim.dt = .0005 # simulation timestep in years\n",
    "\n",
    "# add a solar-mass star\n",
    "sim.add(m=1)\n",
    "\n",
    "# add an asteroid at a = 0.005 AU\n",
    "sim.add(a=0.005, f=0, Omega=0, omega=0, e=0, inc=0, m=0)\n",
    "\n",
    "sim.move_to_com()"
   ]
  },
  {
   "cell_type": "markdown",
   "metadata": {},
   "source": [
    "Now we set all the parameters needed to run a simulation with the YORP effect:"
   ]
  },
  {
   "cell_type": "code",
   "execution_count": null,
   "metadata": {},
   "outputs": [],
   "source": [
    "# unit conversions\n",
    "au_conv = 1.495978707e11 # meters in 1 AU\n",
    "msun_conv = 1.9885e30    # kg in 1 solar mass\n",
    "yr_conv = 31557600.0     # seconds in a year\n",
    "\n",
    "# effect properties\n",
    "phi = 1.e17/au_conv/msun_conv*yr_conv*yr_conv # solar radiation constant\n",
    "lstar = 1.e-3                                 # star luminosity over solar luminosity\n",
    "\n",
    "# object properties\n",
    "radius = 100.0/au_conv\n",
    "density = (2000.0*au_conv*au_conv*au_conv)/msun_conv # density of the object\n",
    "c_body = 1./10./10.                                  # amount of asymmetry and obliquity in the asteroid\n",
    "sigma = 1.0e3/msun_conv*au_conv*yr_conv*yr_conv      # tensile strength of the asteroid\n",
    "rotation_frequency = 0.0081991*yr_conv               # initial rotation frequency\n",
    "obliquity = np.pi/6\n",
    "alpha = 2./3.\n",
    "beta = 1./3."
   ]
  },
  {
   "cell_type": "markdown",
   "metadata": {},
   "source": [
    "Next we must add the YORP effect to the simulation and set the YORP parameters for the asteroid on which we want it to act:"
   ]
  },
  {
   "cell_type": "code",
   "execution_count": null,
   "metadata": {},
   "outputs": [],
   "source": [
    "# Load the YORP effect into REBOUND\n",
    "rebx = reboundx.Extras(sim)\n",
    "yorp = rebx.load_operator(\"yorp_effect\")\n",
    "\n",
    "# set the effect properties\n",
    "yorp.params[\"yorp_solar_radiation_constant\"] = phi\n",
    "yorp.params[\"yorp_lstar\"] = lstar\n",
    "\n",
    "# Set parameters for the particle\n",
    "ps = sim.particles\n",
    "\n",
    "ps[1].r = radius # remember radius is not inputted as a REBx parameter - it is inputted on the particle in the sim\n",
    "ps[1].params[\"yorp_body_density\"] = density\n",
    "ps[1].params[\"yorp_c_body\"] = c_body\n",
    "ps[1].params[\"yorp_tensile_strength\"] = sigma\n",
    "ps[1].params[\"yorp_rotation_frequency\"] = rotation_frequency\n",
    "ps[1].params[\"yorp_obliquity\"] = obliquity\n",
    "ps[1].params[\"yorp_alpha\"] = alpha\n",
    "ps[1].params[\"yorp_beta\"] = beta\n",
    "\n",
    "rebx.add_operator(yorp) # add yorp operator to the simulation\n",
    "sim.N_active = 1"
   ]
  },
  {
   "cell_type": "markdown",
   "metadata": {},
   "source": [
    "Before beginning the simulation, we also set up a custom heartbeat function for fragmentation. The inclusion of fragmentation in a heartbeat function rather than in the YORP code is to allow the user freedom to define their own fragmentation model. In this example, fragmentation will produce a binary asteroid with a mass ratio of 1.5 plus three smaller shards. The failure spin rate is defined using Equation 2 in Veras & Scheeres (2020), but the minimum radius for fragmentation is set somewhat arbitrarily."
   ]
  },
  {
   "cell_type": "code",
   "execution_count": null,
   "metadata": {},
   "outputs": [],
   "source": [
    "min_r = 10.0/au_conv                # minimum radius at which a particle will break apart\n",
    "reset_rotation_frequency = 0.0      # particle rotation frequency after fragmentation\n",
    "primary_mass_ratio = 1.5            # mass ratio between the two primary fragments\n",
    "primary_secondary_mass_ratio = 50.0 # mass ratio between the primary (binary) and the shards\n",
    "n_shards = 3                        # number of shards to create\n",
    "\n",
    "# heartbeat function which defines how fragmentation of a particle due to YORP should be handled\n",
    "def heartbeat(sim_pointer):\n",
    "    sim = sim_pointer.contents\n",
    "    ps = sim.particles\n",
    "    G = sim.G\n",
    "\n",
    "    for i in range(1,sim.N):\n",
    "        # parameters needed to calculate failure spin rate for fragmentation\n",
    "        r = ps[i].r\n",
    "        density = ps[i].params[\"yorp_body_density\"]\n",
    "        sigma = ps[i].params[\"yorp_tensile_strength\"]\n",
    "        rotation_frequency = ps[i].params[\"yorp_rotation_frequency\"]\n",
    "\n",
    "        # Eq. 2 in Veras and Scheeres (2020). Actually the failure spin rate squared.\n",
    "        failure_spin_rate = 4*np.pi*G*density/3.0 + 2.0*sigma/(density*r**2)*(2.0/3.0)\n",
    "\n",
    "        # break apart only if spinning at or above spin rate AND the radius is greater than min fragment size\n",
    "        if rotation_frequency**2 >= failure_spin_rate and r > min_r:\n",
    "            print(\"Asteroid\", i, \"break-up at t = \", sim.t, \"yr. Rotation frequency at break-up:\", rotation_frequency/yr_conv, \"rad/s.\")\n",
    "            \n",
    "            # reset the rotation frequency\n",
    "            ps[i].params[\"yorp_rotation_frequency\"] = reset_rotation_frequency\n",
    "\n",
    "            # save the original particle's mass and radius values\n",
    "            m_old = ps[i].m\n",
    "            r_old = ps[i].r\n",
    "\n",
    "            # set mass and radius of first primary fragment\n",
    "            m_primary = m_old/(1.0+1.0/(primary_secondary_mass_ratio))\n",
    "            r_primary = (1.0+1.0/(primary_secondary_mass_ratio))**(-1.0/3.0)*r_old\n",
    "            ps[i].m = m_primary/(1.0+1.0/(primary_mass_ratio))\n",
    "            ps[i].r = (1.0+1.0/(primary_mass_ratio))**(-1.0/3.0)*r_primary\n",
    "\n",
    "            # create second primary fragment and add to simulation\n",
    "            fragment = rebound.Particle()\n",
    "            fragment.m = m_primary - ps[i].m\n",
    "            fragment.r = primary_mass_ratio**(-1.0/3.0)*ps[i].r\n",
    "            fragment.x = ps[i].x + 10*ps[i].r; # offset slightly so not overlapping\n",
    "            fragment.y = ps[i].y\n",
    "            fragment.z = ps[i].z\n",
    "            fragment.vx = ps[i].vx\n",
    "            fragment.vy = ps[i].vy\n",
    "            fragment.vz = ps[i].vz\n",
    "            sim.add(fragment)\n",
    "\n",
    "            # set yorp-specific parameters for the fragment using parameters from the original particle\n",
    "            ps[i+1].params[\"yorp_body_density\"] = ps[i].params[\"yorp_body_density\"]\n",
    "            ps[i+1].params[\"yorp_c_body\"] = ps[i].params[\"yorp_c_body\"]\n",
    "            ps[i+1].params[\"yorp_tensile_strength\"] = ps[i].params[\"yorp_tensile_strength\"]\n",
    "            ps[i+1].params[\"yorp_rotation_frequency\"] = reset_rotation_frequency\n",
    "            \n",
    "            # set mass and radius totals for shards\n",
    "            m_secondary = m_old - m_primary\n",
    "            r_secondary = r_primary*primary_secondary_mass_ratio**(-1.0/3.0)\n",
    "\n",
    "            # add shards to the simulation\n",
    "            for j in range(0,n_shards):\n",
    "                shard = rebound.Particle()\n",
    "                # shards all have the same mass and radius\n",
    "                shard.m = m_secondary/n_shards\n",
    "                shard.r = n_shards**(-1.0/3.0)*r_secondary\n",
    "                shard.x = ps[i].x + 10*(j+2)*ps[i].r; # offset slightly so not overlapping\n",
    "                shard.y = ps[i].y\n",
    "                shard.z = ps[i].z\n",
    "                shard.vx = ps[i].vx\n",
    "                shard.vy = ps[i].vy\n",
    "                shard.vz = ps[i].vz\n",
    "                sim.add(shard)\n",
    "\n",
    "                N = sim.N\n",
    "                # set yorp-specific parameters for the shard using parameters from the original particle\n",
    "                ps[N-1].params[\"yorp_body_density\"] = ps[i].params[\"yorp_body_density\"]\n",
    "                ps[N-1].params[\"yorp_c_body\"] = ps[i].params[\"yorp_c_body\"]\n",
    "                ps[N-1].params[\"yorp_tensile_strength\"] = ps[i].params[\"yorp_tensile_strength\"]\n",
    "                ps[N-1].params[\"yorp_rotation_frequency\"] = reset_rotation_frequency\n",
    "                \n",
    "sim.heartbeat = heartbeat"
   ]
  },
  {
   "cell_type": "markdown",
   "metadata": {},
   "source": [
    "Now we run the simulation over 10 years, just enough time for the asteroid to fragment and for the fragments to spin up a little bit under the YORP effect."
   ]
  },
  {
   "cell_type": "code",
   "execution_count": null,
   "metadata": {},
   "outputs": [],
   "source": [
    "%%time\n",
    "tmax = 10 # in yrs\n",
    "Nout = 100\n",
    "times = np.linspace(0, tmax, Nout)\n",
    "\n",
    "for i, time in enumerate(times):\n",
    "    sim.integrate(time)"
   ]
  },
  {
   "cell_type": "markdown",
   "metadata": {},
   "source": [
    "Lastly, we print the final rotation frequency and radius for each asteroid. The original asteroid had a radius of 100 m."
   ]
  },
  {
   "cell_type": "code",
   "execution_count": null,
   "metadata": {},
   "outputs": [],
   "source": [
    "for i in range(1,sim.N):\n",
    "    final_w = ps[i].params[\"yorp_rotation_frequency\"]/yr_conv\n",
    "    final_r = ps[i].r*au_conv\n",
    "    final_obliq = ps[i].params[\"yorp_obliquity\"]\n",
    "    print(\"ASTEROID\", i, \"FINAL ROTATION FREQUENCY:\", final_w, \"rad/s\")\n",
    "    print(\"ASTEROID\", i, \"FINAL RADIUS:\", final_r, \"m\\n\")\n",
    "    print(\"ASTEROID\", i, \"FINAL OBLIQUITY:\", final_obliq, \"m\\n\")"
   ]
  }
 ],
 "metadata": {
  "kernelspec": {
   "display_name": ".venv",
   "language": "python",
   "name": "python3"
  },
  "language_info": {
   "codemirror_mode": {
    "name": "ipython",
    "version": 3
   },
   "file_extension": ".py",
   "mimetype": "text/x-python",
   "name": "python",
   "nbconvert_exporter": "python",
   "pygments_lexer": "ipython3",
   "version": "3.10.12"
  }
 },
 "nbformat": 4,
 "nbformat_minor": 2
}
